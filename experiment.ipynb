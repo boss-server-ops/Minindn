{
 "cells": [
  {
   "cell_type": "markdown",
   "metadata": {},
   "source": [
    "### single consumer and multiple producer experiment"
   ]
  },
  {
   "cell_type": "code",
   "execution_count": 1,
   "metadata": {},
   "outputs": [
    {
     "name": "stderr",
     "output_type": "stream",
     "text": [
      "[sudo] password for dd: Sorry, try again.\n",
      "[sudo] password for dd: \n",
      "sudo: no password was provided\n",
      "sudo: 1 incorrect password attempt\n"
     ]
    },
    {
     "data": {
      "text/plain": [
       "256"
      ]
     },
     "execution_count": 1,
     "metadata": {},
     "output_type": "execute_result"
    }
   ],
   "source": [
    "import os\n",
    "import getpass\n",
    "\n",
    "# 获取用户密码\n",
    "password = getpass.getpass(\"Enter your sudo password: \")\n",
    "\n",
    "# 构建命令\n",
    "command = f\"echo {password} | sudo -S python ./examples/SCMPtest.py --work-dir /var/minindn\"\n",
    "\n",
    "# 运行命令\n",
    "os.system(command)"
   ]
  },
  {
   "cell_type": "markdown",
   "metadata": {},
   "source": [
    "### binary tree topology experiment"
   ]
  },
  {
   "cell_type": "code",
   "execution_count": null,
   "metadata": {},
   "outputs": [
    {
     "name": "stderr",
     "output_type": "stream",
     "text": [
      "[sudo] password for dd: Using topology file ./topologies/binary_tree-Topology.conf\n",
      "*** Creating network\n",
      "*** Adding controller\n",
      "*** Adding hosts:\n",
      "agg0 agg1 con0 pro0 pro1 pro2 pro3 \n",
      "*** Adding switches:\n",
      "\n",
      "*** Adding links:\n",
      "(10ms delay) (10ms delay) (agg0, pro0) (10ms delay) (10ms delay) (agg0, pro1) (10ms delay) (10ms delay) (agg1, pro2) (10ms delay) (10ms delay) (agg1, pro3) (10ms delay) (10ms delay) (con0, agg0) (10ms delay) (10ms delay) (con0, agg1) \n",
      "*** Configuring hosts\n",
      "agg0 agg1 con0 pro0 pro1 pro2 pro3 \n",
      "*** Starting controller\n",
      "c0 \n",
      "*** Starting 0 switches\n",
      "\n",
      "Starting NFD on nodes\n",
      "Starting NLSR on nodes\n",
      "Starting Producer on node pro0\n",
      "Starting Producer on node pro1\n",
      "Starting Producer on node pro2\n",
      "Starting Producer on node pro3\n",
      "Starting Aggregator on node agg0\n",
      "Starting Aggregator on node agg1\n"
     ]
    },
    {
     "name": "stdout",
     "output_type": "stream",
     "text": [
      "mini-ndn> "
     ]
    },
    {
     "name": "stderr",
     "output_type": "stream",
     "text": [
      "Starting Consumer on node node_con0\n",
      "*** Starting CLI:\n",
      "\n",
      "*** Stopping 1 controllers\n",
      "c0 \n",
      "*** Stopping 6 links\n",
      "......\n",
      "*** Stopping 0 switches\n",
      "\n",
      "*** Stopping 7 hosts\n",
      "agg0 agg1 con0 pro0 pro1 pro2 pro3 \n",
      "*** Done\n"
     ]
    },
    {
     "data": {
      "text/plain": [
       "0"
      ]
     },
     "execution_count": 6,
     "metadata": {},
     "output_type": "execute_result"
    }
   ],
   "source": [
    "import os\n",
    "import getpass\n",
    "\n",
    "# 获取用户密码\n",
    "password = getpass.getpass(\"Enter your sudo password: \")\n",
    "\n",
    "# 构建命令\n",
    "command = f\"echo {password} | sudo  python ./examples/BinaryTreetest.py --work-dir /var/minindn  ./topologies/binary_tree-Topology.conf\"\n",
    "\n",
    "# 运行命令\n",
    "os.system(command)"
   ]
  },
  {
   "cell_type": "markdown",
   "metadata": {},
   "source": [
    "### test error step1:"
   ]
  },
  {
   "cell_type": "code",
   "execution_count": null,
   "metadata": {},
   "outputs": [],
   "source": [
    "import os\n",
    "import getpass\n",
    "\n",
    "# 获取用户密码\n",
    "password = getpass.getpass(\"Enter your sudo password: \")\n",
    "\n",
    "# 构建命令\n",
    "command = f\"echo {password} | sudo  python ./examples/no_aggregator_experiment.py --work-dir /noagg/minindn  ./topologies/no_aggregator-Topology.conf\"\n",
    "\n",
    "# 运行命令\n",
    "os.system(command)"
   ]
  },
  {
   "cell_type": "markdown",
   "metadata": {},
   "source": [
    "### test error step2 with single aggregator:"
   ]
  },
  {
   "cell_type": "code",
   "execution_count": null,
   "metadata": {},
   "outputs": [],
   "source": [
    "import os\n",
    "import getpass\n",
    "\n",
    "# 获取用户密码\n",
    "password = getpass.getpass(\"Enter your sudo password: \")\n",
    "\n",
    "# 构建命令\n",
    "command = f\"echo {password} | sudo  python ./examples/single_aggregator_experiment.py --work-dir /sagg/minindn  ./topologies/single_aggregator-Topology.conf\"\n",
    "\n",
    "# 运行命令\n",
    "os.system(command)"
   ]
  },
  {
   "cell_type": "markdown",
   "metadata": {},
   "source": [
    "### test error step3 with multiple aggregator:"
   ]
  },
  {
   "cell_type": "code",
   "execution_count": null,
   "metadata": {},
   "outputs": [],
   "source": [
    "import os\n",
    "import getpass\n",
    "\n",
    "# 获取用户密码\n",
    "password = getpass.getpass(\"Enter your sudo password: \")\n",
    "\n",
    "# 构建命令\n",
    "command = f\"echo {password} | sudo  python ./examples/multiple_aggregator_experiment.py --work-dir /magg/minindn  ./topologies/multiple_aggregator-Topology.conf\"\n",
    "\n",
    "# 运行命令\n",
    "os.system(command)"
   ]
  },
  {
   "cell_type": "markdown",
   "metadata": {},
   "source": [
    "### Test Line"
   ]
  },
  {
   "cell_type": "code",
   "execution_count": 38,
   "metadata": {},
   "outputs": [
    {
     "name": "stderr",
     "output_type": "stream",
     "text": [
      "[sudo] password for dd: Using topology file ./topologies/Linetest.conf\n",
      "*** Creating network\n",
      "*** Adding controller\n",
      "*** Adding hosts:\n",
      "agg0 agg1 con0 pro0 pro1 pro2 pro3 \n",
      "*** Adding switches:\n",
      "\n",
      "*** Adding links:\n",
      "(100.00Mbit 0 delay 0.00000% loss) *** Error: Warning: sch_htb: quantum of class 50001 is big. Consider r2q change.\n",
      "(100.00Mbit 0 delay 0.00000% loss) *** Error: Warning: sch_htb: quantum of class 50001 is big. Consider r2q change.\n",
      "(agg0, pro0) (100.00Mbit 0 delay 0.00000% loss) *** Error: Warning: sch_htb: quantum of class 50001 is big. Consider r2q change.\n",
      "(100.00Mbit 0 delay 0.00000% loss) *** Error: Warning: sch_htb: quantum of class 50001 is big. Consider r2q change.\n",
      "(agg0, pro1) (100.00Mbit 0 delay 0.00000% loss) *** Error: Warning: sch_htb: quantum of class 50001 is big. Consider r2q change.\n",
      "(100.00Mbit 0 delay 0.00000% loss) *** Error: Warning: sch_htb: quantum of class 50001 is big. Consider r2q change.\n",
      "(agg1, pro2) (100.00Mbit 0 delay 0.00000% loss) *** Error: Warning: sch_htb: quantum of class 50001 is big. Consider r2q change.\n",
      "(100.00Mbit 0 delay 0.00000% loss) *** Error: Warning: sch_htb: quantum of class 50001 is big. Consider r2q change.\n",
      "(agg1, pro3) (100.00Mbit 0 delay 0.00000% loss) *** Error: Warning: sch_htb: quantum of class 50001 is big. Consider r2q change.\n",
      "(100.00Mbit 0 delay 0.00000% loss) *** Error: Warning: sch_htb: quantum of class 50001 is big. Consider r2q change.\n",
      "(con0, agg0) (100.00Mbit 0 delay 0.00000% loss) *** Error: Warning: sch_htb: quantum of class 50001 is big. Consider r2q change.\n",
      "(100.00Mbit 0 delay 0.00000% loss) *** Error: Warning: sch_htb: quantum of class 50001 is big. Consider r2q change.\n",
      "(con0, agg1) \n",
      "*** Configuring hosts\n",
      "agg0 agg1 con0 pro0 pro1 pro2 pro3 \n",
      "*** Starting controller\n",
      "c0 \n",
      "*** Starting 0 switches\n",
      "\n",
      "Starting NFD on nodes\n",
      "Starting NLSR on nodes\n",
      "Starting Producer on node pro0\n",
      "Starting Producer on node pro1\n",
      "Starting Producer on node pro2\n",
      "Starting Producer on node pro3\n",
      "Starting Aggregator on node agg0\n",
      "Starting Aggregator on node agg1\n",
      "Starting Consumer on node con0\n",
      "*** Starting CLI:\n",
      "\n",
      "*** Stopping 1 controllers\n",
      "c0 \n",
      "*** Stopping 6 links\n",
      "......"
     ]
    },
    {
     "name": "stdout",
     "output_type": "stream",
     "text": [
      "mini-ndn> "
     ]
    },
    {
     "name": "stderr",
     "output_type": "stream",
     "text": [
      "\n",
      "*** Stopping 0 switches\n",
      "\n",
      "*** Stopping 7 hosts\n",
      "agg0 agg1 con0 pro0 pro1 pro2 pro3 \n",
      "*** Done\n"
     ]
    },
    {
     "data": {
      "text/plain": [
       "0"
      ]
     },
     "execution_count": 38,
     "metadata": {},
     "output_type": "execute_result"
    }
   ],
   "source": [
    "import os\n",
    "import getpass\n",
    "\n",
    "# 获取用户密码\n",
    "password = getpass.getpass(\"Enter your sudo password: \")\n",
    "\n",
    "# 构建命令\n",
    "command = f\"echo {password} | sudo -S python ./examples/Linetest.py --work-dir ./chunkworkdir  ./topologies/Linetest.conf\"\n",
    "\n",
    "# 运行命令\n",
    "os.system(command)"
   ]
  },
  {
   "cell_type": "markdown",
   "metadata": {},
   "source": [
    "### Custom test"
   ]
  },
  {
   "cell_type": "code",
   "execution_count": null,
   "metadata": {},
   "outputs": [
    {
     "name": "stderr",
     "output_type": "stream",
     "text": [
      "[sudo] password for dd: Using topology file ./topologies/Customtest.conf\n",
      "*** Creating network\n",
      "*** Adding controller\n",
      "*** Adding hosts:\n",
      "con0 pro0 pro1 \n",
      "*** Adding switches:\n",
      "\n",
      "*** Adding links:\n",
      "(200.00Mbit 0 delay 0.00000% loss) *** Error: Warning: sch_htb: quantum of class 50001 is big. Consider r2q change.\n",
      "(200.00Mbit 0 delay 0.00000% loss) *** Error: Warning: sch_htb: quantum of class 50001 is big. Consider r2q change.\n",
      "(con0, pro0) (200.00Mbit 0 delay 0.00000% loss) *** Error: Warning: sch_htb: quantum of class 50001 is big. Consider r2q change.\n",
      "(200.00Mbit 0 delay 0.00000% loss) *** Error: Warning: sch_htb: quantum of class 50001 is big. Consider r2q change.\n",
      "(con0, pro1) \n",
      "*** Configuring hosts\n",
      "con0 pro0 pro1 \n",
      "*** Starting controller\n",
      "c0 \n",
      "*** Starting 0 switches\n",
      "\n",
      "Starting NFD on nodes\n",
      "Starting NLSR on nodes\n",
      "Starting Producer on node pro0\n",
      "Starting Producer on node pro1\n",
      "Starting Consumer on node con0\n",
      "Traceback (most recent call last):\n",
      "  File \"/home/dd/mini-ndn/./examples/GeneratedLinetest.py\", line 61, in <module>\n",
      "    sleep(300)\n",
      "KeyboardInterrupt\n"
     ]
    },
    {
     "data": {
      "text/plain": [
       "2"
      ]
     },
     "execution_count": 23,
     "metadata": {},
     "output_type": "execute_result"
    }
   ],
   "source": [
    "import os\n",
    "import getpass\n",
    "import signal\n",
    "import subprocess\n",
    "\n",
    "# 获取密码\n",
    "password = getpass.getpass(\"Enter your sudo password: \")\n",
    "\n",
    "# 构建命令（注意：这里密码传递方式不安全，建议使用免密码sudo）\n",
    "command = \"sudo -S python ./examples/GeneratedLinetest.py --work-dir ./chunkworkdir ./topologies/Customtest.conf\"\n",
    "\n",
    "try:\n",
    "    # 启动进程（创建新进程组）\n",
    "    process = subprocess.Popen(\n",
    "        command.split(),\n",
    "        stdin=subprocess.PIPE,\n",
    "        stderr=subprocess.PIPE,\n",
    "        preexec_fn=os.setsid  # 关键：创建新进程组\n",
    "    )\n",
    "    \n",
    "    # 输入密码\n",
    "    process.communicate(password.encode() + b'\\n')\n",
    "    \n",
    "    # 等待进程完成\n",
    "    process.wait()\n",
    "    \n",
    "except KeyboardInterrupt:\n",
    "    # 捕获Ctrl+C信号\n",
    "    print(\"\\nTerminating all mininet processes...\")\n",
    "    \n",
    "    # 杀死整个进程组（包括子进程）\n",
    "    os.killpg(os.getpgid(process.pid), signal.SIGTERM)\n",
    "    \n",
    "    # 额外清理mininet残留进程\n",
    "    os.system(\"sudo mn -c >/dev/null 2>&1\")\n",
    "    os.system(\"sudo pkill -f Customtest.conf\")\n",
    "    os.system(\"sudo pkill -f mininet:\")\n",
    "    \n",
    "    print(\"Cleanup completed.\")"
   ]
  }
 ],
 "metadata": {
  "kernelspec": {
   "display_name": "Python 3",
   "language": "python",
   "name": "python3"
  },
  "language_info": {
   "codemirror_mode": {
    "name": "ipython",
    "version": 3
   },
   "file_extension": ".py",
   "mimetype": "text/x-python",
   "name": "python",
   "nbconvert_exporter": "python",
   "pygments_lexer": "ipython3",
   "version": "3.12.3"
  }
 },
 "nbformat": 4,
 "nbformat_minor": 2
}
