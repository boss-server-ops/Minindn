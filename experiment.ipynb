{
 "cells": [
  {
   "cell_type": "markdown",
   "metadata": {},
   "source": [
    "### single consumer and multiple producer experiment"
   ]
  },
  {
   "cell_type": "code",
   "execution_count": 1,
   "metadata": {},
   "outputs": [
    {
     "name": "stderr",
     "output_type": "stream",
     "text": [
      "[sudo] password for dd: Using topology file /usr/local/etc/mini-ndn/default-topology.conf\n",
      "*** Creating network\n",
      "*** Adding controller\n",
      "*** Adding hosts:\n",
      "a b c d \n",
      "*** Adding switches:\n",
      "\n",
      "*** Adding links:\n",
      "(10ms delay) (10ms delay) (a, b) (10ms delay) (10ms delay) (a, c) (10ms delay) (10ms delay) (b, d) \n",
      "*** Configuring hosts\n",
      "a b c d \n",
      "*** Starting controller\n",
      "c0 \n",
      "*** Starting 0 switches\n",
      "\n",
      "Starting NFD on nodes\n",
      "Starting NLSR on nodes\n",
      "Starting Producer on node b\n",
      "Starting Producer on node c\n",
      "Starting Producer on node d\n"
     ]
    },
    {
     "name": "stdout",
     "output_type": "stream",
     "text": [
      "mini-ndn> "
     ]
    },
    {
     "name": "stderr",
     "output_type": "stream",
     "text": [
      "Starting Consumer on node a\n",
      "*** Starting CLI:\n",
      "\n",
      "*** Stopping 1 controllers\n",
      "c0 \n",
      "*** Stopping 3 links\n",
      "...\n",
      "*** Stopping 0 switches\n",
      "\n",
      "*** Stopping 4 hosts\n",
      "a b c d \n",
      "*** Done\n"
     ]
    },
    {
     "data": {
      "text/plain": [
       "0"
      ]
     },
     "execution_count": 1,
     "metadata": {},
     "output_type": "execute_result"
    }
   ],
   "source": [
    "import os\n",
    "import getpass\n",
    "\n",
    "# 获取用户密码\n",
    "password = getpass.getpass(\"Enter your sudo password: \")\n",
    "\n",
    "# 构建命令\n",
    "command = f\"echo {password} | sudo -S python ./examples/SCMPtest.py --work-dir /var/minindn\"\n",
    "\n",
    "# 运行命令\n",
    "os.system(command)"
   ]
  },
  {
   "cell_type": "markdown",
   "metadata": {},
   "source": [
    "### binary tree topology experiment"
   ]
  },
  {
   "cell_type": "code",
   "execution_count": null,
   "metadata": {},
   "outputs": [
    {
     "name": "stderr",
     "output_type": "stream",
     "text": [
      "[sudo] password for dd: Using topology file ./topologies/binary_tree-Topology.conf\n",
      "*** Creating network\n",
      "*** Adding controller\n",
      "*** Adding hosts:\n",
      "agg0 agg1 con0 pro0 pro1 pro2 pro3 \n",
      "*** Adding switches:\n",
      "\n",
      "*** Adding links:\n",
      "(10ms delay) (10ms delay) (agg0, pro0) (10ms delay) (10ms delay) (agg0, pro1) (10ms delay) (10ms delay) (agg1, pro2) (10ms delay) (10ms delay) (agg1, pro3) (10ms delay) (10ms delay) (con0, agg0) (10ms delay) (10ms delay) (con0, agg1) \n",
      "*** Configuring hosts\n",
      "agg0 agg1 con0 pro0 pro1 pro2 pro3 \n",
      "*** Starting controller\n",
      "c0 \n",
      "*** Starting 0 switches\n",
      "\n",
      "Starting NFD on nodes\n",
      "Starting NLSR on nodes\n",
      "Starting Producer on node pro0\n",
      "Starting Producer on node pro1\n",
      "Starting Producer on node pro2\n",
      "Starting Producer on node pro3\n",
      "Starting Aggregator on node agg0\n",
      "Starting Aggregator on node agg1\n"
     ]
    },
    {
     "name": "stdout",
     "output_type": "stream",
     "text": [
      "mini-ndn> "
     ]
    },
    {
     "name": "stderr",
     "output_type": "stream",
     "text": [
      "Starting Consumer on node node_con0\n",
      "*** Starting CLI:\n",
      "\n",
      "*** Stopping 1 controllers\n",
      "c0 \n",
      "*** Stopping 6 links\n",
      "......\n",
      "*** Stopping 0 switches\n",
      "\n",
      "*** Stopping 7 hosts\n",
      "agg0 agg1 con0 pro0 pro1 pro2 pro3 \n",
      "*** Done\n"
     ]
    },
    {
     "data": {
      "text/plain": [
       "0"
      ]
     },
     "execution_count": 6,
     "metadata": {},
     "output_type": "execute_result"
    }
   ],
   "source": [
    "import os\n",
    "import getpass\n",
    "\n",
    "# 获取用户密码\n",
    "password = getpass.getpass(\"Enter your sudo password: \")\n",
    "\n",
    "# 构建命令\n",
    "command = f\"echo {password} | sudo  python ./examples/BinaryTreetest.py --work-dir /var/minindn  ./topologies/binary_tree-Topology.conf\"\n",
    "\n",
    "# 运行命令\n",
    "os.system(command)"
   ]
  },
  {
   "cell_type": "markdown",
   "metadata": {},
   "source": [
    "### test error step1:"
   ]
  },
  {
   "cell_type": "code",
   "execution_count": null,
   "metadata": {},
   "outputs": [],
   "source": [
    "import os\n",
    "import getpass\n",
    "\n",
    "# 获取用户密码\n",
    "password = getpass.getpass(\"Enter your sudo password: \")\n",
    "\n",
    "# 构建命令\n",
    "command = f\"echo {password} | sudo  python ./examples/no_aggregator_experiment.py --work-dir /noagg/minindn  ./topologies/no_aggregator-Topology.conf\"\n",
    "\n",
    "# 运行命令\n",
    "os.system(command)"
   ]
  },
  {
   "cell_type": "markdown",
   "metadata": {},
   "source": [
    "### test error step2 with single aggregator:"
   ]
  },
  {
   "cell_type": "code",
   "execution_count": null,
   "metadata": {},
   "outputs": [],
   "source": [
    "import os\n",
    "import getpass\n",
    "\n",
    "# 获取用户密码\n",
    "password = getpass.getpass(\"Enter your sudo password: \")\n",
    "\n",
    "# 构建命令\n",
    "command = f\"echo {password} | sudo  python ./examples/single_aggregator_experiment.py --work-dir /sagg/minindn  ./topologies/single_aggregator-Topology.conf\"\n",
    "\n",
    "# 运行命令\n",
    "os.system(command)"
   ]
  },
  {
   "cell_type": "markdown",
   "metadata": {},
   "source": [
    "### test error step3 with multiple aggregator:"
   ]
  },
  {
   "cell_type": "code",
   "execution_count": null,
   "metadata": {},
   "outputs": [],
   "source": [
    "import os\n",
    "import getpass\n",
    "\n",
    "# 获取用户密码\n",
    "password = getpass.getpass(\"Enter your sudo password: \")\n",
    "\n",
    "# 构建命令\n",
    "command = f\"echo {password} | sudo  python ./examples/multiple_aggregator_experiment.py --work-dir /magg/minindn  ./topologies/multiple_aggregator-Topology.conf\"\n",
    "\n",
    "# 运行命令\n",
    "os.system(command)"
   ]
  },
  {
   "cell_type": "markdown",
   "metadata": {},
   "source": [
    "### Test Line"
   ]
  },
  {
   "cell_type": "code",
   "execution_count": 11,
   "metadata": {},
   "outputs": [
    {
     "name": "stderr",
     "output_type": "stream",
     "text": [
      "[sudo] password for dd: Using topology file ./topologies/Linetest.conf\n",
      "*** Creating network\n",
      "*** Adding controller\n",
      "*** Adding hosts:\n",
      "con0 pro0 pro1 \n",
      "*** Adding switches:\n",
      "\n",
      "*** Adding links:\n",
      "(50.00Mbit 0 delay 0.00000% loss) *** Error: Warning: sch_htb: quantum of class 50001 is big. Consider r2q change.\n",
      "(50.00Mbit 0 delay 0.00000% loss) *** Error: Warning: sch_htb: quantum of class 50001 is big. Consider r2q change.\n",
      "(con0, pro0) (50.00Mbit 0 delay 0.00000% loss) *** Error: Warning: sch_htb: quantum of class 50001 is big. Consider r2q change.\n",
      "(50.00Mbit 0 delay 0.00000% loss) *** Error: Warning: sch_htb: quantum of class 50001 is big. Consider r2q change.\n",
      "(con0, pro1) \n",
      "*** Configuring hosts\n",
      "con0 pro0 pro1 \n",
      "*** Starting controller\n",
      "c0 \n",
      "*** Starting 0 switches\n",
      "\n",
      "Starting NFD on nodes\n",
      "Starting NLSR on nodes\n",
      "Starting Producer on node pro0\n",
      "Starting Producer on node pro1\n",
      "Starting Consumer on node con0\n"
     ]
    },
    {
     "name": "stdout",
     "output_type": "stream",
     "text": [
      "mini-ndn> "
     ]
    },
    {
     "name": "stderr",
     "output_type": "stream",
     "text": [
      "*** Starting CLI:\n",
      "\n",
      "*** Stopping 1 controllers\n",
      "c0 \n",
      "*** Stopping 2 links\n",
      "..\n",
      "*** Stopping 0 switches\n",
      "\n",
      "*** Stopping 3 hosts\n",
      "con0 pro0 pro1 \n",
      "*** Done\n"
     ]
    },
    {
     "data": {
      "text/plain": [
       "0"
      ]
     },
     "execution_count": 11,
     "metadata": {},
     "output_type": "execute_result"
    }
   ],
   "source": [
    "import os\n",
    "import getpass\n",
    "\n",
    "# 获取用户密码\n",
    "password = getpass.getpass(\"Enter your sudo password: \")\n",
    "\n",
    "# 构建命令\n",
    "command = f\"echo {password} | sudo -S python ./examples/Linetest.py --work-dir ./chunkworkdir  ./topologies/Linetest.conf\"\n",
    "\n",
    "# 运行命令\n",
    "os.system(command)"
   ]
  },
  {
   "cell_type": "markdown",
   "metadata": {},
   "source": [
    "### Custom test"
   ]
  },
  {
   "cell_type": "code",
   "execution_count": null,
   "metadata": {},
   "outputs": [
    {
     "name": "stderr",
     "output_type": "stream",
     "text": [
      "[sudo] password for dd: Using topology file ./topologies/Customtest.conf\n",
      "*** Creating network\n",
      "*** Adding controller\n",
      "*** Adding hosts:\n",
      "con0 pro0 pro1 pro2 \n",
      "*** Adding switches:\n",
      "\n",
      "*** Adding links:\n",
      "(60.00Mbit 0 delay 0.00000% loss) *** Error: Warning: sch_htb: quantum of class 50001 is big. Consider r2q change.\n",
      "(60.00Mbit 0 delay 0.00000% loss) *** Error: Warning: sch_htb: quantum of class 50001 is big. Consider r2q change.\n",
      "(con0, pro0) (60.00Mbit 0 delay 0.00000% loss) *** Error: Warning: sch_htb: quantum of class 50001 is big. Consider r2q change.\n",
      "(60.00Mbit 0 delay 0.00000% loss) *** Error: Warning: sch_htb: quantum of class 50001 is big. Consider r2q change.\n",
      "(con0, pro1) (60.00Mbit 0 delay 0.00000% loss) *** Error: Warning: sch_htb: quantum of class 50001 is big. Consider r2q change.\n",
      "(60.00Mbit 0 delay 0.00000% loss) *** Error: Warning: sch_htb: quantum of class 50001 is big. Consider r2q change.\n",
      "(con0, pro2) \n",
      "*** Configuring hosts\n",
      "con0 pro0 pro1 pro2 \n",
      "*** Starting controller\n",
      "c0 \n",
      "*** Starting 0 switches\n",
      "\n",
      "Starting NFD on nodes\n",
      "Starting NLSR on nodes\n",
      "Starting Producer on node pro0\n",
      "Starting Producer on node pro1\n",
      "Starting Producer on node pro2\n",
      "Starting Consumer on node con0\n"
     ]
    }
   ],
   "source": [
    "import os\n",
    "import getpass\n",
    "\n",
    "# 获取用户密码\n",
    "password = getpass.getpass(\"Enter your sudo password: \")\n",
    "\n",
    "# 构建命令\n",
    "command = f\"echo {password} | sudo -S python ./examples/GeneratedLinetest.py --work-dir ./chunkworkdir  ./topologies/Customtest.conf\"\n",
    "\n",
    "# 运行命令\n",
    "os.system(command)"
   ]
  }
 ],
 "metadata": {
  "kernelspec": {
   "display_name": "Python 3",
   "language": "python",
   "name": "python3"
  },
  "language_info": {
   "codemirror_mode": {
    "name": "ipython",
    "version": 3
   },
   "file_extension": ".py",
   "mimetype": "text/x-python",
   "name": "python",
   "nbconvert_exporter": "python",
   "pygments_lexer": "ipython3",
   "version": "3.12.3"
  }
 },
 "nbformat": 4,
 "nbformat_minor": 2
}
